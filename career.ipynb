{
 "cells": [
  {
   "cell_type": "code",
   "execution_count": 1,
   "metadata": {},
   "outputs": [],
   "source": [
    "#importing all the necessary libraries\n",
    "import numpy as np\n",
    "import pandas as pd\n",
    "from sklearn.preprocessing import LabelEncoder"
   ]
  },
  {
   "cell_type": "code",
   "execution_count": 2,
   "metadata": {},
   "outputs": [
    {
     "data": {
      "text/html": [
       "<div>\n",
       "<style scoped>\n",
       "    .dataframe tbody tr th:only-of-type {\n",
       "        vertical-align: middle;\n",
       "    }\n",
       "\n",
       "    .dataframe tbody tr th {\n",
       "        vertical-align: top;\n",
       "    }\n",
       "\n",
       "    .dataframe thead th {\n",
       "        text-align: right;\n",
       "    }\n",
       "</style>\n",
       "<table border=\"1\" class=\"dataframe\">\n",
       "  <thead>\n",
       "    <tr style=\"text-align: right;\">\n",
       "      <th></th>\n",
       "      <th>Age</th>\n",
       "      <th>Gender</th>\n",
       "      <th>Educational Background</th>\n",
       "      <th>Extraversion</th>\n",
       "      <th>Agreeableness</th>\n",
       "      <th>Conscientiousness</th>\n",
       "      <th>Openness to Experience</th>\n",
       "      <th>Emotional Stability</th>\n",
       "      <th>Values/Beliefs</th>\n",
       "      <th>Aptitude Test</th>\n",
       "      <th>Personality</th>\n",
       "      <th>Career Outcome</th>\n",
       "    </tr>\n",
       "  </thead>\n",
       "  <tbody>\n",
       "    <tr>\n",
       "      <th>0</th>\n",
       "      <td>16</td>\n",
       "      <td>Male</td>\n",
       "      <td>11th Class</td>\n",
       "      <td>70</td>\n",
       "      <td>75</td>\n",
       "      <td>80</td>\n",
       "      <td>85</td>\n",
       "      <td>70</td>\n",
       "      <td>75</td>\n",
       "      <td>85</td>\n",
       "      <td>dependable</td>\n",
       "      <td>Software Developer</td>\n",
       "    </tr>\n",
       "    <tr>\n",
       "      <th>1</th>\n",
       "      <td>15</td>\n",
       "      <td>Female</td>\n",
       "      <td>10th Class</td>\n",
       "      <td>75</td>\n",
       "      <td>80</td>\n",
       "      <td>85</td>\n",
       "      <td>75</td>\n",
       "      <td>70</td>\n",
       "      <td>80</td>\n",
       "      <td>90</td>\n",
       "      <td>serious</td>\n",
       "      <td>Data Scientist</td>\n",
       "    </tr>\n",
       "    <tr>\n",
       "      <th>2</th>\n",
       "      <td>16</td>\n",
       "      <td>Male</td>\n",
       "      <td>11th Class</td>\n",
       "      <td>70</td>\n",
       "      <td>75</td>\n",
       "      <td>80</td>\n",
       "      <td>85</td>\n",
       "      <td>70</td>\n",
       "      <td>75</td>\n",
       "      <td>72</td>\n",
       "      <td>responsible</td>\n",
       "      <td>UX Designer</td>\n",
       "    </tr>\n",
       "    <tr>\n",
       "      <th>3</th>\n",
       "      <td>15</td>\n",
       "      <td>Female</td>\n",
       "      <td>10th Class</td>\n",
       "      <td>75</td>\n",
       "      <td>80</td>\n",
       "      <td>85</td>\n",
       "      <td>75</td>\n",
       "      <td>70</td>\n",
       "      <td>80</td>\n",
       "      <td>78</td>\n",
       "      <td>extraverted</td>\n",
       "      <td>Financial Analyst</td>\n",
       "    </tr>\n",
       "    <tr>\n",
       "      <th>4</th>\n",
       "      <td>16</td>\n",
       "      <td>Male</td>\n",
       "      <td>11th Class</td>\n",
       "      <td>70</td>\n",
       "      <td>75</td>\n",
       "      <td>80</td>\n",
       "      <td>85</td>\n",
       "      <td>70</td>\n",
       "      <td>75</td>\n",
       "      <td>85</td>\n",
       "      <td>lively</td>\n",
       "      <td>Marketing Specialist</td>\n",
       "    </tr>\n",
       "  </tbody>\n",
       "</table>\n",
       "</div>"
      ],
      "text/plain": [
       "   Age  Gender Educational Background  Extraversion  Agreeableness  \\\n",
       "0   16    Male             11th Class            70             75   \n",
       "1   15  Female             10th Class            75             80   \n",
       "2   16    Male             11th Class            70             75   \n",
       "3   15  Female             10th Class            75             80   \n",
       "4   16    Male             11th Class            70             75   \n",
       "\n",
       "   Conscientiousness  Openness to Experience  Emotional Stability  \\\n",
       "0                 80                      85                   70   \n",
       "1                 85                      75                   70   \n",
       "2                 80                      85                   70   \n",
       "3                 85                      75                   70   \n",
       "4                 80                      85                   70   \n",
       "\n",
       "   Values/Beliefs  Aptitude Test  Personality        Career Outcome  \n",
       "0              75             85   dependable    Software Developer  \n",
       "1              80             90      serious        Data Scientist  \n",
       "2              75             72  responsible           UX Designer  \n",
       "3              80             78  extraverted     Financial Analyst  \n",
       "4              75             85       lively  Marketing Specialist  "
      ]
     },
     "execution_count": 2,
     "metadata": {},
     "output_type": "execute_result"
    }
   ],
   "source": [
    "#pandas dataframe\n",
    "df = pd.read_csv(\"career-data.csv\")\n",
    "df.head()"
   ]
  },
  {
   "cell_type": "code",
   "execution_count": 3,
   "metadata": {},
   "outputs": [],
   "source": [
    "#making a copy\n",
    "dataset = df.copy()"
   ]
  },
  {
   "cell_type": "code",
   "execution_count": 4,
   "metadata": {},
   "outputs": [],
   "source": [
    "labelencoder = LabelEncoder()"
   ]
  },
  {
   "cell_type": "code",
   "execution_count": 5,
   "metadata": {},
   "outputs": [
    {
     "data": {
      "text/plain": [
       "4"
      ]
     },
     "execution_count": 5,
     "metadata": {},
     "output_type": "execute_result"
    }
   ],
   "source": [
    "#converting into categorical values\n",
    "categorical_features = [feature for feature in dataset.columns if dataset[feature].dtype == 'O']\n",
    "len(categorical_features)"
   ]
  },
  {
   "cell_type": "code",
   "execution_count": 6,
   "metadata": {},
   "outputs": [
    {
     "data": {
      "text/html": [
       "<div>\n",
       "<style scoped>\n",
       "    .dataframe tbody tr th:only-of-type {\n",
       "        vertical-align: middle;\n",
       "    }\n",
       "\n",
       "    .dataframe tbody tr th {\n",
       "        vertical-align: top;\n",
       "    }\n",
       "\n",
       "    .dataframe thead th {\n",
       "        text-align: right;\n",
       "    }\n",
       "</style>\n",
       "<table border=\"1\" class=\"dataframe\">\n",
       "  <thead>\n",
       "    <tr style=\"text-align: right;\">\n",
       "      <th></th>\n",
       "      <th>Age</th>\n",
       "      <th>Gender</th>\n",
       "      <th>Educational Background</th>\n",
       "      <th>Extraversion</th>\n",
       "      <th>Agreeableness</th>\n",
       "      <th>Conscientiousness</th>\n",
       "      <th>Openness to Experience</th>\n",
       "      <th>Emotional Stability</th>\n",
       "      <th>Values/Beliefs</th>\n",
       "      <th>Aptitude Test</th>\n",
       "      <th>Personality</th>\n",
       "      <th>Career Outcome</th>\n",
       "    </tr>\n",
       "  </thead>\n",
       "  <tbody>\n",
       "    <tr>\n",
       "      <th>0</th>\n",
       "      <td>16</td>\n",
       "      <td>1</td>\n",
       "      <td>1</td>\n",
       "      <td>70</td>\n",
       "      <td>75</td>\n",
       "      <td>80</td>\n",
       "      <td>85</td>\n",
       "      <td>70</td>\n",
       "      <td>75</td>\n",
       "      <td>85</td>\n",
       "      <td>0</td>\n",
       "      <td>46</td>\n",
       "    </tr>\n",
       "    <tr>\n",
       "      <th>1</th>\n",
       "      <td>15</td>\n",
       "      <td>0</td>\n",
       "      <td>0</td>\n",
       "      <td>75</td>\n",
       "      <td>80</td>\n",
       "      <td>85</td>\n",
       "      <td>75</td>\n",
       "      <td>70</td>\n",
       "      <td>80</td>\n",
       "      <td>90</td>\n",
       "      <td>4</td>\n",
       "      <td>14</td>\n",
       "    </tr>\n",
       "    <tr>\n",
       "      <th>2</th>\n",
       "      <td>16</td>\n",
       "      <td>1</td>\n",
       "      <td>1</td>\n",
       "      <td>70</td>\n",
       "      <td>75</td>\n",
       "      <td>80</td>\n",
       "      <td>85</td>\n",
       "      <td>70</td>\n",
       "      <td>75</td>\n",
       "      <td>72</td>\n",
       "      <td>3</td>\n",
       "      <td>52</td>\n",
       "    </tr>\n",
       "    <tr>\n",
       "      <th>3</th>\n",
       "      <td>15</td>\n",
       "      <td>0</td>\n",
       "      <td>0</td>\n",
       "      <td>75</td>\n",
       "      <td>80</td>\n",
       "      <td>85</td>\n",
       "      <td>75</td>\n",
       "      <td>70</td>\n",
       "      <td>80</td>\n",
       "      <td>78</td>\n",
       "      <td>1</td>\n",
       "      <td>20</td>\n",
       "    </tr>\n",
       "    <tr>\n",
       "      <th>4</th>\n",
       "      <td>16</td>\n",
       "      <td>1</td>\n",
       "      <td>1</td>\n",
       "      <td>70</td>\n",
       "      <td>75</td>\n",
       "      <td>80</td>\n",
       "      <td>85</td>\n",
       "      <td>70</td>\n",
       "      <td>75</td>\n",
       "      <td>85</td>\n",
       "      <td>2</td>\n",
       "      <td>34</td>\n",
       "    </tr>\n",
       "  </tbody>\n",
       "</table>\n",
       "</div>"
      ],
      "text/plain": [
       "   Age  Gender  Educational Background  Extraversion  Agreeableness  \\\n",
       "0   16       1                       1            70             75   \n",
       "1   15       0                       0            75             80   \n",
       "2   16       1                       1            70             75   \n",
       "3   15       0                       0            75             80   \n",
       "4   16       1                       1            70             75   \n",
       "\n",
       "   Conscientiousness  Openness to Experience  Emotional Stability  \\\n",
       "0                 80                      85                   70   \n",
       "1                 85                      75                   70   \n",
       "2                 80                      85                   70   \n",
       "3                 85                      75                   70   \n",
       "4                 80                      85                   70   \n",
       "\n",
       "   Values/Beliefs  Aptitude Test  Personality  Career Outcome  \n",
       "0              75             85            0              46  \n",
       "1              80             90            4              14  \n",
       "2              75             72            3              52  \n",
       "3              80             78            1              20  \n",
       "4              75             85            2              34  "
      ]
     },
     "execution_count": 6,
     "metadata": {},
     "output_type": "execute_result"
    }
   ],
   "source": [
    "for feature in categorical_features:\n",
    "    dataset[feature] = labelencoder.fit_transform(dataset[feature])\n",
    "\n",
    "dataset.head()"
   ]
  },
  {
   "cell_type": "code",
   "execution_count": 7,
   "metadata": {},
   "outputs": [],
   "source": [
    "# forming a separate list for all the categories of career choices\n",
    "data = df.iloc[:90,:-1].values\n",
    "label = df.iloc[:90,-1]"
   ]
  },
  {
   "cell_type": "code",
   "execution_count": 8,
   "metadata": {},
   "outputs": [
    {
     "name": "stdout",
     "output_type": "stream",
     "text": [
      "                                ROLE  Category\n",
      "0                 Software Developer        46\n",
      "1                     Data Scientist        14\n",
      "2                        UX Designer        52\n",
      "3                  Financial Analyst        20\n",
      "4               Marketing Specialist        34\n",
      "5            Human Resources Manager        26\n",
      "6                    Product Manager        41\n",
      "7                      Data Engineer        13\n",
      "8                  Financial Planner        21\n",
      "9           Administrative Assistant         0\n",
      "10                 Marketing Manager        33\n",
      "11                Research Scientist        45\n",
      "12                  Graphic Designer        23\n",
      "13                    Civil Engineer        10\n",
      "14                Nurse Practitioner        36\n",
      "15                Physical Therapist        38\n",
      "16                              Chef         7\n",
      "17                        Pharmacist        37\n",
      "18                 Interior Designer        27\n",
      "19           Environmental Scientist        17\n",
      "20                      Psychologist        42\n",
      "21                       Electrician        16\n",
      "22                Aerospace Engineer         1\n",
      "23                  Fashion Designer        19\n",
      "24                      Veterinarian        53\n",
      "25                 Investment Banker        29\n",
      "26       Public Relations Specialist        44\n",
      "27               Biomedical Engineer         6\n",
      "28                  Dental Hygienist        15\n",
      "29                     Event Planner        18\n",
      "30                 Chemical Engineer         8\n",
      "31                        Journalist        30\n",
      "32                         Architect         2\n",
      "33                      Art Director         3\n",
      "34                  Technical Writer        51\n",
      "35                           Chemist         9\n",
      "36                     HR Consultant        24\n",
      "37                       Logistician        31\n",
      "38           Market Research Analyst        32\n",
      "39               Physician Assistant        39\n",
      "40                     Web Developer        54\n",
      "41                      Data Analyst        12\n",
      "42      Technical Support Specialist        50\n",
      "43               Medical Illustrator        35\n",
      "44          Healthcare Administrator        25\n",
      "45              Supply Chain Manager        49\n",
      "46                         Biologist         5\n",
      "47  Artificial Intelligence Engineer         4\n",
      "48             Public Health Analyst        43\n",
      "49                      Statistician        48\n",
      "50                   Software Tester        47\n",
      "51             Clinical Psychologist        11\n",
      "52                 Political Analyst        40\n",
      "53                Forensic Scientist        22\n",
      "54                Investment Analyst        28\n"
     ]
    }
   ],
   "source": [
    "orignal=label.unique() \n",
    "label=label.values\n",
    "label2 = labelencoder.fit_transform(label)\n",
    "y=pd.DataFrame(label2,columns=[\"ROLE\"])\n",
    "numeric=y[\"ROLE\"].unique() \n",
    "categorized_data = pd.DataFrame({'ROLE':orignal, 'Category':numeric})\n",
    "print(categorized_data)"
   ]
  },
  {
   "cell_type": "code",
   "execution_count": 9,
   "metadata": {},
   "outputs": [],
   "source": [
    "y_labels = df['Career Outcome'].unique()\n",
    "encoded = labelencoder.fit_transform(y_labels)"
   ]
  },
  {
   "cell_type": "code",
   "execution_count": 10,
   "metadata": {},
   "outputs": [],
   "source": [
    "categorical_data = np.stack([y_labels,encoded],axis=1)"
   ]
  },
  {
   "cell_type": "code",
   "execution_count": 11,
   "metadata": {},
   "outputs": [
    {
     "data": {
      "text/plain": [
       "array([['Software Developer', 46],\n",
       "       ['Data Scientist', 14],\n",
       "       ['UX Designer', 52],\n",
       "       ['Financial Analyst', 20],\n",
       "       ['Marketing Specialist', 34],\n",
       "       ['Human Resources Manager', 26],\n",
       "       ['Product Manager', 41],\n",
       "       ['Data Engineer', 13],\n",
       "       ['Financial Planner', 21],\n",
       "       ['Administrative Assistant', 0],\n",
       "       ['Marketing Manager', 33],\n",
       "       ['Research Scientist', 45],\n",
       "       ['Graphic Designer', 23],\n",
       "       ['Civil Engineer', 10],\n",
       "       ['Nurse Practitioner', 36],\n",
       "       ['Physical Therapist', 38],\n",
       "       ['Chef', 7],\n",
       "       ['Pharmacist', 37],\n",
       "       ['Interior Designer', 27],\n",
       "       ['Environmental Scientist', 17],\n",
       "       ['Psychologist', 42],\n",
       "       ['Electrician', 16],\n",
       "       ['Aerospace Engineer', 1],\n",
       "       ['Fashion Designer', 19],\n",
       "       ['Veterinarian', 53],\n",
       "       ['Investment Banker', 29],\n",
       "       ['Public Relations Specialist', 44],\n",
       "       ['Biomedical Engineer', 6],\n",
       "       ['Dental Hygienist', 15],\n",
       "       ['Event Planner', 18],\n",
       "       ['Chemical Engineer', 8],\n",
       "       ['Journalist', 30],\n",
       "       ['Architect', 2],\n",
       "       ['Art Director', 3],\n",
       "       ['Technical Writer', 51],\n",
       "       ['Chemist', 9],\n",
       "       ['HR Consultant', 24],\n",
       "       ['Logistician', 31],\n",
       "       ['Market Research Analyst', 32],\n",
       "       ['Physician Assistant', 39],\n",
       "       ['Web Developer', 54],\n",
       "       ['Data Analyst', 12],\n",
       "       ['Technical Support Specialist', 50],\n",
       "       ['Medical Illustrator', 35],\n",
       "       ['Healthcare Administrator', 25],\n",
       "       ['Supply Chain Manager', 49],\n",
       "       ['Biologist', 5],\n",
       "       ['Artificial Intelligence Engineer', 4],\n",
       "       ['Public Health Analyst', 43],\n",
       "       ['Statistician', 48],\n",
       "       ['Software Tester', 47],\n",
       "       ['Clinical Psychologist', 11],\n",
       "       ['Political Analyst', 40],\n",
       "       ['Forensic Scientist', 22],\n",
       "       ['Investment Analyst', 28]], dtype=object)"
      ]
     },
     "execution_count": 11,
     "metadata": {},
     "output_type": "execute_result"
    }
   ],
   "source": [
    "categorical_data"
   ]
  },
  {
   "cell_type": "code",
   "execution_count": 12,
   "metadata": {},
   "outputs": [
    {
     "data": {
      "text/html": [
       "<div>\n",
       "<style scoped>\n",
       "    .dataframe tbody tr th:only-of-type {\n",
       "        vertical-align: middle;\n",
       "    }\n",
       "\n",
       "    .dataframe tbody tr th {\n",
       "        vertical-align: top;\n",
       "    }\n",
       "\n",
       "    .dataframe thead th {\n",
       "        text-align: right;\n",
       "    }\n",
       "</style>\n",
       "<table border=\"1\" class=\"dataframe\">\n",
       "  <thead>\n",
       "    <tr style=\"text-align: right;\">\n",
       "      <th></th>\n",
       "      <th>ROLE</th>\n",
       "    </tr>\n",
       "    <tr>\n",
       "      <th>Category</th>\n",
       "      <th></th>\n",
       "    </tr>\n",
       "  </thead>\n",
       "  <tbody>\n",
       "    <tr>\n",
       "      <th>0</th>\n",
       "      <td>Administrative Assistant</td>\n",
       "    </tr>\n",
       "    <tr>\n",
       "      <th>1</th>\n",
       "      <td>Aerospace Engineer</td>\n",
       "    </tr>\n",
       "    <tr>\n",
       "      <th>2</th>\n",
       "      <td>Architect</td>\n",
       "    </tr>\n",
       "    <tr>\n",
       "      <th>3</th>\n",
       "      <td>Art Director</td>\n",
       "    </tr>\n",
       "    <tr>\n",
       "      <th>4</th>\n",
       "      <td>Artificial Intelligence Engineer</td>\n",
       "    </tr>\n",
       "  </tbody>\n",
       "</table>\n",
       "</div>"
      ],
      "text/plain": [
       "                                      ROLE\n",
       "Category                                  \n",
       "0                 Administrative Assistant\n",
       "1                       Aerospace Engineer\n",
       "2                                Architect\n",
       "3                             Art Director\n",
       "4         Artificial Intelligence Engineer"
      ]
     },
     "execution_count": 12,
     "metadata": {},
     "output_type": "execute_result"
    }
   ],
   "source": [
    "categorized_data.set_index([\"Category\"], inplace = True)\n",
    "categorized_data.sort_index(inplace = True)\n",
    "categorized_data.head()"
   ]
  },
  {
   "cell_type": "code",
   "execution_count": 13,
   "metadata": {},
   "outputs": [],
   "source": [
    "#splitting data in\n",
    "from sklearn.model_selection import train_test_split\n",
    "x = dataset.drop(['Career Outcome'], axis = 1)\n",
    "y = dataset['Career Outcome']\n",
    "X_train, X_test, y_train, y_test = train_test_split(x, y, test_size=0.3, random_state=10)"
   ]
  },
  {
   "cell_type": "code",
   "execution_count": 14,
   "metadata": {},
   "outputs": [
    {
     "data": {
      "text/plain": [
       "array([46, 14, 52, 20, 34, 26, 41, 13, 21,  0, 33, 45, 23, 10, 36, 38,  7,\n",
       "       37, 27, 17, 42, 16,  1, 19, 53, 29, 44,  6, 15, 18,  8, 30,  2,  3,\n",
       "       51,  9, 24, 31, 32, 39, 54, 12, 50, 35, 25, 49,  5,  4, 43, 48, 47,\n",
       "       11, 40, 22, 28])"
      ]
     },
     "execution_count": 14,
     "metadata": {},
     "output_type": "execute_result"
    }
   ],
   "source": [
    "y.unique()"
   ]
  },
  {
   "cell_type": "code",
   "execution_count": 15,
   "metadata": {},
   "outputs": [],
   "source": [
    "#model building\n",
    "from sklearn.metrics import confusion_matrix,accuracy_score\n",
    "from xgboost.sklearn import XGBClassifier\n",
    "from sklearn import tree\n",
    "from sklearn.metrics import confusion_matrix,accuracy_score\n"
   ]
  },
  {
   "cell_type": "code",
   "execution_count": 16,
   "metadata": {},
   "outputs": [
    {
     "name": "stdout",
     "output_type": "stream",
     "text": [
      "Model accuracy score with Decision Tree 7.4074074074074066\n"
     ]
    }
   ],
   "source": [
    "#decsion tree model\n",
    "clf = tree.DecisionTreeClassifier()\n",
    "clf = clf.fit(X_train, y_train)\n",
    "y_pred = clf.predict(X_test)\n",
    "accuracy = accuracy_score(y_test,y_pred)\n",
    "print('Model accuracy score with Decision Tree', accuracy*100)\n"
   ]
  },
  {
   "cell_type": "code",
   "execution_count": 17,
   "metadata": {},
   "outputs": [
    {
     "data": {
      "text/plain": [
       "\"\\n#Xgboost model\\nmodel = XGBClassifier()\\nmodel.fit(X_train,y_train)\\ny_pred = model.predict(X_test)\\naccuracy = accuracy_score(y_test, y_pred)\\nprint('Model accuracy score with Decision Tree', accuracy*100)\\n\""
      ]
     },
     "execution_count": 17,
     "metadata": {},
     "output_type": "execute_result"
    }
   ],
   "source": [
    "'''\n",
    "#Xgboost model\n",
    "model = XGBClassifier()\n",
    "model.fit(X_train,y_train)\n",
    "y_pred = model.predict(X_test)\n",
    "accuracy = accuracy_score(y_test, y_pred)\n",
    "print('Model accuracy score with Decision Tree', accuracy*100)\n",
    "'''"
   ]
  },
  {
   "cell_type": "code",
   "execution_count": 18,
   "metadata": {},
   "outputs": [],
   "source": [
    "import pickle\n",
    "Pkl_file = 'career_model'\n",
    "with open(Pkl_file, 'wb') as file:\n",
    "    pickle.dump(clf,file)"
   ]
  },
  {
   "cell_type": "code",
   "execution_count": 19,
   "metadata": {},
   "outputs": [],
   "source": [
    "Pkl_file = 'career_model'\n",
    "with open(Pkl_file, 'rb') as file:\n",
    "    classifier=pickle.load(file)"
   ]
  }
 ],
 "metadata": {
  "kernelspec": {
   "display_name": "Python 3",
   "language": "python",
   "name": "python3"
  },
  "language_info": {
   "codemirror_mode": {
    "name": "ipython",
    "version": 3
   },
   "file_extension": ".py",
   "mimetype": "text/x-python",
   "name": "python",
   "nbconvert_exporter": "python",
   "pygments_lexer": "ipython3",
   "version": "3.11.4"
  },
  "orig_nbformat": 4
 },
 "nbformat": 4,
 "nbformat_minor": 2
}
